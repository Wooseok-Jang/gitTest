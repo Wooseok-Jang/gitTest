{
 "cells": [
  {
   "cell_type": "markdown",
   "metadata": {},
   "source": [
    "#### Git Memo _ Last Update : 2020/06/25\n",
    "#### Part1.\n",
    "\n",
    "1. Git은 리누스 토발즈가 리눅스의 소스 코드를 관리하기 위해 만든 버전 관리 및 협업용 프로그램입니다.\n",
    "\n",
    "2. Git을배울 때 중요한 것은 Git과 GitHub를 잘 구별하는 것입니다.\n",
    "\n",
    "3. Git은 버전 관리를 할 때 사용하는 소프트웨어 자체를 말하고 Github는 Git으로 관리하는 프로젝트의 복사본을 저장하는 서버를 제공해주고 협업을 위한 편의 기능을 제공해주는 서비스라는 점, 항상 기억하세요!\n",
    "\n",
    "#### Part2\n",
    "\n",
    "1. 커밋(commit) : 프로젝트 디렉토리의 특정 모습을 하나의 버전으로 남기는 행위 & 결과물\n",
    "2. 레포지토리(repository) : 커밋이 저장되는 곳\n",
    "\n",
    "#### Part3\n",
    "Commit에 관한 주의사항\n",
    "1. 처음으로 커밋을 하기 전 사용자의 이름과 이메일 주소를 설정!\n",
    "2. 커밋 메시지 남기기 (옵션 -m)\n",
    "3. 커밋할 파일을 git add로 지정해주기"
   ]
  },
  {
   "cell_type": "code",
   "execution_count": 1,
   "metadata": {},
   "outputs": [],
   "source": [
    "# add하고 commit 할 때 바뀌는 지 한번 보자"
   ]
  },
  {
   "cell_type": "code",
   "execution_count": 4,
   "metadata": {},
   "outputs": [],
   "source": [
    "def add (a, b) :\n",
    "    return a+b"
   ]
  },
  {
   "cell_type": "code",
   "execution_count": 8,
   "metadata": {},
   "outputs": [
    {
     "output_type": "execute_result",
     "data": {
      "text/plain": "5"
     },
     "metadata": {},
     "execution_count": 8
    }
   ],
   "source": [
    "add(2, 3)"
   ]
  },
  {
   "cell_type": "code",
   "execution_count": null,
   "metadata": {},
   "outputs": [],
   "source": []
  }
 ],
 "metadata": {
  "language_info": {
   "codemirror_mode": {
    "name": "ipython",
    "version": 3
   },
   "file_extension": ".py",
   "mimetype": "text/x-python",
   "name": "python",
   "nbconvert_exporter": "python",
   "pygments_lexer": "ipython3",
   "version": "3.7.6-final"
  },
  "orig_nbformat": 2,
  "kernelspec": {
   "name": "python3",
   "display_name": "Python 3"
  }
 },
 "nbformat": 4,
 "nbformat_minor": 2
}